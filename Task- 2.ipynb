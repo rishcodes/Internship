{
 "cells": [
  {
   "cell_type": "code",
   "execution_count": 1,
   "id": "057ce2e8",
   "metadata": {},
   "outputs": [],
   "source": [
    "import numpy as np\n",
    "import pandas as pd "
   ]
  },
  {
   "cell_type": "code",
   "execution_count": 2,
   "id": "9a1a54e8",
   "metadata": {},
   "outputs": [
    {
     "data": {
      "text/html": [
       "<div>\n",
       "<style scoped>\n",
       "    .dataframe tbody tr th:only-of-type {\n",
       "        vertical-align: middle;\n",
       "    }\n",
       "\n",
       "    .dataframe tbody tr th {\n",
       "        vertical-align: top;\n",
       "    }\n",
       "\n",
       "    .dataframe thead th {\n",
       "        text-align: right;\n",
       "    }\n",
       "</style>\n",
       "<table border=\"1\" class=\"dataframe\">\n",
       "  <thead>\n",
       "    <tr style=\"text-align: right;\">\n",
       "      <th></th>\n",
       "      <th>Timestamp</th>\n",
       "      <th>Industry</th>\n",
       "      <th>Annual_Salary</th>\n",
       "      <th>Additional_Monetary_Compensation</th>\n",
       "      <th>Currency</th>\n",
       "      <th>Country_Of_Employment</th>\n",
       "    </tr>\n",
       "  </thead>\n",
       "  <tbody>\n",
       "    <tr>\n",
       "      <th>0</th>\n",
       "      <td>2021-04-27 11:02:09.743</td>\n",
       "      <td>Education (Higher Education)</td>\n",
       "      <td>55000.0</td>\n",
       "      <td>0.0</td>\n",
       "      <td>USD</td>\n",
       "      <td>United States</td>\n",
       "    </tr>\n",
       "    <tr>\n",
       "      <th>1</th>\n",
       "      <td>2021-04-27 11:02:21.562</td>\n",
       "      <td>Computing or Tech</td>\n",
       "      <td>54600.0</td>\n",
       "      <td>4000.0</td>\n",
       "      <td>GBP</td>\n",
       "      <td>United Kingdom</td>\n",
       "    </tr>\n",
       "    <tr>\n",
       "      <th>2</th>\n",
       "      <td>2021-04-27 11:02:38.125</td>\n",
       "      <td>Accounting, Banking &amp; Finance</td>\n",
       "      <td>34000.0</td>\n",
       "      <td>NaN</td>\n",
       "      <td>USD</td>\n",
       "      <td>US</td>\n",
       "    </tr>\n",
       "    <tr>\n",
       "      <th>3</th>\n",
       "      <td>2021-04-27 11:02:40.643</td>\n",
       "      <td>Nonprofits</td>\n",
       "      <td>62000.0</td>\n",
       "      <td>3000.0</td>\n",
       "      <td>USD</td>\n",
       "      <td>USA</td>\n",
       "    </tr>\n",
       "    <tr>\n",
       "      <th>4</th>\n",
       "      <td>2021-04-27 11:02:41.793</td>\n",
       "      <td>Accounting, Banking &amp; Finance</td>\n",
       "      <td>60000.0</td>\n",
       "      <td>7000.0</td>\n",
       "      <td>USD</td>\n",
       "      <td>US</td>\n",
       "    </tr>\n",
       "  </tbody>\n",
       "</table>\n",
       "</div>"
      ],
      "text/plain": [
       "                 Timestamp                       Industry  Annual_Salary  \\\n",
       "0  2021-04-27 11:02:09.743   Education (Higher Education)        55000.0   \n",
       "1  2021-04-27 11:02:21.562              Computing or Tech        54600.0   \n",
       "2  2021-04-27 11:02:38.125  Accounting, Banking & Finance        34000.0   \n",
       "3  2021-04-27 11:02:40.643                     Nonprofits        62000.0   \n",
       "4  2021-04-27 11:02:41.793  Accounting, Banking & Finance        60000.0   \n",
       "\n",
       "   Additional_Monetary_Compensation Currency Country_Of_Employment  \n",
       "0                               0.0      USD         United States  \n",
       "1                            4000.0      GBP        United Kingdom  \n",
       "2                               NaN      USD                    US  \n",
       "3                            3000.0      USD                   USA  \n",
       "4                            7000.0      USD                    US  "
      ]
     },
     "execution_count": 2,
     "metadata": {},
     "output_type": "execute_result"
    }
   ],
   "source": [
    "data = pd.read_csv(\"C:/Users/Asus/Downloads/part1.csv\")\n",
    "\n",
    "data.head(5)"
   ]
  },
  {
   "cell_type": "code",
   "execution_count": 49,
   "id": "e070f11c",
   "metadata": {},
   "outputs": [
    {
     "data": {
      "text/plain": [
       "(27597, 6)"
      ]
     },
     "execution_count": 49,
     "metadata": {},
     "output_type": "execute_result"
    }
   ],
   "source": [
    "data.shape"
   ]
  },
  {
   "cell_type": "code",
   "execution_count": 3,
   "id": "96016e0d",
   "metadata": {},
   "outputs": [
    {
     "data": {
      "text/plain": [
       "Computing or Tech                                   4608\n",
       "Education (Higher Education)                        2436\n",
       "Nonprofits                                          2391\n",
       "Government and Public Administration                1871\n",
       "Health care                                         1857\n",
       "                                                    ... \n",
       "Food Service --- Baking                                1\n",
       "Publishing (academic)                                  1\n",
       "Eap                                                    1\n",
       "Professional Public Librarian                          1\n",
       "Clinical Research Manager - academic institution       1\n",
       "Name: Industry, Length: 1195, dtype: int64"
      ]
     },
     "execution_count": 3,
     "metadata": {},
     "output_type": "execute_result"
    }
   ],
   "source": [
    "data['Industry'].value_counts()    # Total values in the industry column - 1195"
   ]
  },
  {
   "cell_type": "code",
   "execution_count": 4,
   "id": "c8e020a3",
   "metadata": {},
   "outputs": [
    {
     "data": {
      "text/plain": [
       "69"
      ]
     },
     "execution_count": 4,
     "metadata": {},
     "output_type": "execute_result"
    }
   ],
   "source": [
    "data['Industry'].isnull().sum()"
   ]
  },
  {
   "cell_type": "code",
   "execution_count": 5,
   "id": "8065e301",
   "metadata": {},
   "outputs": [],
   "source": [
    "data['Industry'].replace(np.nan, 'INVALID',inplace=True)"
   ]
  },
  {
   "cell_type": "code",
   "execution_count": 47,
   "id": "fa7740f3",
   "metadata": {},
   "outputs": [
    {
     "data": {
      "text/plain": [
       "0"
      ]
     },
     "execution_count": 47,
     "metadata": {},
     "output_type": "execute_result"
    }
   ],
   "source": [
    "data['Annual_Salary'].isnull().sum()"
   ]
  },
  {
   "cell_type": "code",
   "execution_count": null,
   "id": "f3e52c76",
   "metadata": {},
   "outputs": [],
   "source": [
    "data[\"\"]"
   ]
  },
  {
   "cell_type": "code",
   "execution_count": 7,
   "id": "7a6c2e63",
   "metadata": {},
   "outputs": [
    {
     "data": {
      "text/plain": [
       "Computing or Tech                                   4608\n",
       "Education (Higher Education)                        2436\n",
       "Nonprofits                                          2391\n",
       "Government and Public Administration                1871\n",
       "Health care                                         1857\n",
       "                                                    ... \n",
       "Food Service --- Baking                                1\n",
       "Publishing (academic)                                  1\n",
       "Eap                                                    1\n",
       "Professional Public Librarian                          1\n",
       "Clinical Research Manager - academic institution       1\n",
       "Name: Industry, Length: 1196, dtype: int64"
      ]
     },
     "execution_count": 7,
     "metadata": {},
     "output_type": "execute_result"
    }
   ],
   "source": [
    "data['Industry'].value_counts(sort=True)"
   ]
  },
  {
   "cell_type": "code",
   "execution_count": 46,
   "id": "2585fbad",
   "metadata": {},
   "outputs": [
    {
     "data": {
      "text/plain": [
       "0"
      ]
     },
     "execution_count": 46,
     "metadata": {},
     "output_type": "execute_result"
    }
   ],
   "source": [
    "data[\"Annual_Salary\"].isnull().sum()"
   ]
  },
  {
   "cell_type": "code",
   "execution_count": 48,
   "id": "88bd2e58",
   "metadata": {},
   "outputs": [
    {
     "data": {
      "text/plain": [
       "7142"
      ]
     },
     "execution_count": 48,
     "metadata": {},
     "output_type": "execute_result"
    }
   ],
   "source": [
    "data[\"Additional_Monetary_Compensation\"].isnull().sum()   # Checking for null values in the column"
   ]
  },
  {
   "cell_type": "code",
   "execution_count": 50,
   "id": "76cdb9fb",
   "metadata": {},
   "outputs": [],
   "source": [
    "data[\"Additional_Monetary_Compensation\"].replace(np.nan,0,inplace=True)"
   ]
  },
  {
   "cell_type": "code",
   "execution_count": 51,
   "id": "fd8f5a10",
   "metadata": {},
   "outputs": [
    {
     "data": {
      "text/plain": [
       "False"
      ]
     },
     "execution_count": 51,
     "metadata": {},
     "output_type": "execute_result"
    }
   ],
   "source": [
    "data[\"Additional_Monetary_Compensation\"].isnull().any()"
   ]
  },
  {
   "cell_type": "code",
   "execution_count": 52,
   "id": "ad9b8c88",
   "metadata": {},
   "outputs": [],
   "source": [
    "data[\"Total_Salary\"]=data[\"Annual_Salary\"] + data[\"Additional_Monetary_Compensation\"]\n"
   ]
  },
  {
   "cell_type": "code",
   "execution_count": 57,
   "id": "0c347523",
   "metadata": {},
   "outputs": [],
   "source": [
    "data=data.iloc[:,[0,1,2,3,6,4,5]]"
   ]
  },
  {
   "cell_type": "code",
   "execution_count": 58,
   "id": "82530aba",
   "metadata": {},
   "outputs": [
    {
     "data": {
      "text/html": [
       "<div>\n",
       "<style scoped>\n",
       "    .dataframe tbody tr th:only-of-type {\n",
       "        vertical-align: middle;\n",
       "    }\n",
       "\n",
       "    .dataframe tbody tr th {\n",
       "        vertical-align: top;\n",
       "    }\n",
       "\n",
       "    .dataframe thead th {\n",
       "        text-align: right;\n",
       "    }\n",
       "</style>\n",
       "<table border=\"1\" class=\"dataframe\">\n",
       "  <thead>\n",
       "    <tr style=\"text-align: right;\">\n",
       "      <th></th>\n",
       "      <th>Timestamp</th>\n",
       "      <th>Industry</th>\n",
       "      <th>Annual_Salary</th>\n",
       "      <th>Additional_Monetary_Compensation</th>\n",
       "      <th>Total_Salary</th>\n",
       "      <th>Currency</th>\n",
       "      <th>Country_Of_Employment</th>\n",
       "    </tr>\n",
       "  </thead>\n",
       "  <tbody>\n",
       "    <tr>\n",
       "      <th>0</th>\n",
       "      <td>2021-04-27 11:02:09.743</td>\n",
       "      <td>Education (Higher Education)</td>\n",
       "      <td>55000.0</td>\n",
       "      <td>0.0</td>\n",
       "      <td>55000.0</td>\n",
       "      <td>USD</td>\n",
       "      <td>United States</td>\n",
       "    </tr>\n",
       "    <tr>\n",
       "      <th>1</th>\n",
       "      <td>2021-04-27 11:02:21.562</td>\n",
       "      <td>Computing or Tech</td>\n",
       "      <td>54600.0</td>\n",
       "      <td>4000.0</td>\n",
       "      <td>58600.0</td>\n",
       "      <td>GBP</td>\n",
       "      <td>United Kingdom</td>\n",
       "    </tr>\n",
       "    <tr>\n",
       "      <th>2</th>\n",
       "      <td>2021-04-27 11:02:38.125</td>\n",
       "      <td>Accounting, Banking &amp; Finance</td>\n",
       "      <td>34000.0</td>\n",
       "      <td>0.0</td>\n",
       "      <td>34000.0</td>\n",
       "      <td>USD</td>\n",
       "      <td>US</td>\n",
       "    </tr>\n",
       "    <tr>\n",
       "      <th>3</th>\n",
       "      <td>2021-04-27 11:02:40.643</td>\n",
       "      <td>Nonprofits</td>\n",
       "      <td>62000.0</td>\n",
       "      <td>3000.0</td>\n",
       "      <td>65000.0</td>\n",
       "      <td>USD</td>\n",
       "      <td>USA</td>\n",
       "    </tr>\n",
       "    <tr>\n",
       "      <th>4</th>\n",
       "      <td>2021-04-27 11:02:41.793</td>\n",
       "      <td>Accounting, Banking &amp; Finance</td>\n",
       "      <td>60000.0</td>\n",
       "      <td>7000.0</td>\n",
       "      <td>67000.0</td>\n",
       "      <td>USD</td>\n",
       "      <td>US</td>\n",
       "    </tr>\n",
       "  </tbody>\n",
       "</table>\n",
       "</div>"
      ],
      "text/plain": [
       "                 Timestamp                       Industry  Annual_Salary  \\\n",
       "0  2021-04-27 11:02:09.743   Education (Higher Education)        55000.0   \n",
       "1  2021-04-27 11:02:21.562              Computing or Tech        54600.0   \n",
       "2  2021-04-27 11:02:38.125  Accounting, Banking & Finance        34000.0   \n",
       "3  2021-04-27 11:02:40.643                     Nonprofits        62000.0   \n",
       "4  2021-04-27 11:02:41.793  Accounting, Banking & Finance        60000.0   \n",
       "\n",
       "   Additional_Monetary_Compensation  Total_Salary Currency  \\\n",
       "0                               0.0       55000.0      USD   \n",
       "1                            4000.0       58600.0      GBP   \n",
       "2                               0.0       34000.0      USD   \n",
       "3                            3000.0       65000.0      USD   \n",
       "4                            7000.0       67000.0      USD   \n",
       "\n",
       "  Country_Of_Employment  \n",
       "0         United States  \n",
       "1        United Kingdom  \n",
       "2                    US  \n",
       "3                   USA  \n",
       "4                    US  "
      ]
     },
     "execution_count": 58,
     "metadata": {},
     "output_type": "execute_result"
    }
   ],
   "source": [
    "data.head()"
   ]
  },
  {
   "cell_type": "code",
   "execution_count": 59,
   "id": "aaa04e6d",
   "metadata": {},
   "outputs": [],
   "source": [
    "data[\"Currency\"].replace(\"Other\",\"USD\",inplace=True)"
   ]
  },
  {
   "cell_type": "code",
   "execution_count": 60,
   "id": "1ca3caca",
   "metadata": {},
   "outputs": [
    {
     "data": {
      "text/plain": [
       "array(['USD', 'GBP', 'CAD', 'EUR', 'AUD/NZD', 'CHF', 'ZAR', 'SEK', 'HKD',\n",
       "       'JPY'], dtype=object)"
      ]
     },
     "execution_count": 60,
     "metadata": {},
     "output_type": "execute_result"
    }
   ],
   "source": [
    "data[\"Currency\"].unique()"
   ]
  },
  {
   "cell_type": "code",
   "execution_count": null,
   "id": "80e04c26",
   "metadata": {},
   "outputs": [],
   "source": []
  },
  {
   "cell_type": "code",
   "execution_count": 8,
   "id": "4ceb6917",
   "metadata": {},
   "outputs": [
    {
     "data": {
      "text/plain": [
       "United States                                                    8842\n",
       "USA                                                              7842\n",
       "US                                                               2571\n",
       "Canada                                                           1549\n",
       "United States                                                     652\n",
       "                                                                 ... \n",
       "Can                                                                 1\n",
       "Sri Lanka                                                           1\n",
       "Worldwide (based in US but short term trips aroudn the world)       1\n",
       "Danmark                                                             1\n",
       "U.S.A                                                               1\n",
       "Name: Country_Of_Employment, Length: 364, dtype: int64"
      ]
     },
     "execution_count": 8,
     "metadata": {},
     "output_type": "execute_result"
    }
   ],
   "source": [
    "data['Country_Of_Employment'].value_counts()"
   ]
  },
  {
   "cell_type": "code",
   "execution_count": 9,
   "id": "b2728563",
   "metadata": {},
   "outputs": [
    {
     "name": "stdout",
     "output_type": "stream",
     "text": [
      "Requirement already satisfied: textblob in c:\\users\\asus\\anaconda3\\lib\\site-packages (0.17.1)\n",
      "Requirement already satisfied: nltk>=3.1 in c:\\users\\asus\\anaconda3\\lib\\site-packages (from textblob) (3.7)\n",
      "Requirement already satisfied: regex>=2021.8.3 in c:\\users\\asus\\anaconda3\\lib\\site-packages (from nltk>=3.1->textblob) (2022.3.15)\n",
      "Requirement already satisfied: joblib in c:\\users\\asus\\anaconda3\\lib\\site-packages (from nltk>=3.1->textblob) (1.1.0)\n",
      "Requirement already satisfied: tqdm in c:\\users\\asus\\anaconda3\\lib\\site-packages (from nltk>=3.1->textblob) (4.64.0)\n",
      "Requirement already satisfied: click in c:\\users\\asus\\anaconda3\\lib\\site-packages (from nltk>=3.1->textblob) (8.0.4)\n",
      "Requirement already satisfied: colorama in c:\\users\\asus\\anaconda3\\lib\\site-packages (from click->nltk>=3.1->textblob) (0.4.4)\n",
      "Note: you may need to restart the kernel to use updated packages.\n"
     ]
    }
   ],
   "source": [
    "pip install textblob"
   ]
  },
  {
   "cell_type": "code",
   "execution_count": 18,
   "id": "adc60e8d",
   "metadata": {},
   "outputs": [],
   "source": [
    "from textblob import TextBlob\n",
    "from difflib import SequenceMatcher"
   ]
  },
  {
   "cell_type": "code",
   "execution_count": 11,
   "id": "8af4f55b",
   "metadata": {},
   "outputs": [],
   "source": [
    "def func(list):\n",
    "    \n",
    "    for i in range(len(list)):\n",
    "\n",
    "        word = TextBlob(list[i])\n",
    "\n",
    "        result=word.correct()\n",
    "\n",
    "        print(result)\n"
   ]
  },
  {
   "cell_type": "code",
   "execution_count": 12,
   "id": "68c441e2",
   "metadata": {},
   "outputs": [
    {
     "name": "stdout",
     "output_type": "stream",
     "text": [
      "United States\n",
      "United Kingdom\n",
      "of\n",
      "USA\n",
      "Canada\n",
      "United Kingdom \n",
      "us\n",
      "of\n",
      "Scotland \n",
      "U.S.\n",
      "United States \n",
      "The Netherlands\n",
      "Australia \n",
      "Pain\n",
      "us\n",
      "Sa\n",
      "England\n",
      "finland\n",
      "United States of America\n",
      "France\n",
      "United states\n",
      "Scotland\n",
      "USA \n",
      "United states \n",
      "Germany\n",
      "of \n",
      "united states\n",
      "Ireland\n",
      "India\n",
      "Australia\n",
      "K\n",
      "United States of America \n",
      "U.S. \n",
      "canada\n",
      "Canada \n",
      "U.S>\n",
      "ISA\n",
      "Argentina\n",
      "Great Britain \n",
      "of \n",
      "United State\n",
      "U.S.A\n",
      "Denmark\n",
      "U.S.A.\n",
      "America\n",
      "Netherlands\n",
      "netherlands\n",
      "England \n",
      "united states of america\n",
      "Ireland \n",
      "Switzerland\n",
      "Netherlands \n",
      "Bermuda\n",
      "Is\n",
      "The United States\n",
      "United State of America\n",
      "Germany \n",
      "Malaysia\n",
      "Mexico \n",
      "United Stated\n",
      "South Africa \n",
      "Belgium\n",
      "Northern Ireland\n",
      "u.s.\n",
      "South Africa\n",
      "UNITED STATES\n",
      "united States\n",
      "Sweden\n",
      "Long Long\n",
      "Wait\n",
      "Norway\n",
      "Ri lank\n",
      "Contracts\n",
      "USA-- Virgin Islands\n",
      "United States\n",
      "England/of\n",
      "U.S\n",
      "He don't get raises, we get quarterly bones, but they periodically masses income in the area you work, so I got a raise because a rd party assessment showed I was paid too little for the area we were located\n",
      "Unites States \n",
      "Sa \n",
      "U.S.A. \n",
      "England, of.\n",
      "Greece\n",
      "Japan\n",
      "U. S. \n",
      "Britain \n",
      "United Rates\n",
      "Japan \n",
      "Austria\n",
      "Brazil\n",
      "Canada, Ottawa, ontario\n",
      "Global\n",
      "Sweden \n",
      "United States of American \n",
      "FRANCE\n",
      "United States\n",
      "United Kingdom (England)\n",
      "Worldwide (based in of but short term trips around the world)\n",
      "CANADA \n",
      "Canada\n",
      "Hungary\n",
      "Luxemburg\n",
      "United Rates of America\n",
      "ireland\n",
      "United States (I work from home and my clients are all over the of/Canada/of\n",
      "Colombia\n",
      "CANADA\n",
      "United States\n",
      "germany\n",
      "United States\n",
      "United States\n",
      "United States\n",
      "United Kingdom.\n",
      "Mexico\n",
      "New Zealand\n",
      "Trinidad and Tobago\n",
      "Unites States\n",
      "United States\n",
      "United kingdom\n",
      "Layman Islands\n",
      "united States\n",
      "An\n",
      "I am located in Canada but I work for a company in the of\n",
      "United kingdom \n",
      "United states\n",
      "Knives States\n",
      "United States of American\n",
      "U.A.\n",
      "Czech republic\n",
      "Czechia\n",
      "Latvia\n",
      "Inland\n",
      "U. S.\n",
      "Huerta Rico\n",
      "of of A\n",
      "Swandam\n",
      "United States of america \n",
      "United Arab Pirates \n",
      "Bangladesh \n",
      "Pain \n",
      "U.K. \n",
      "Mania\n",
      "U.of\n",
      "United Window\n",
      "United Status\n",
      "New Zealand \n",
      "Currently finance\n",
      " U.S.\n",
      "Serbia\n",
      "Philippines\n",
      "Russia \n",
      "Poland\n",
      "UXZ\n",
      "czech republic\n",
      "England, of\n",
      "Turkey\n",
      "And\n",
      "Huerta Rico \n",
      "Canada and USA\n",
      "Catalonia\n",
      "$2,175.84/year is deduced for benefits\n",
      "up\n",
      "France \n",
      "Italy (South)\n",
      "Jersey, Channel islands\n",
      "K \n",
      "China\n",
      "Virginia\n",
      "Afghanistan\n",
      "Israel\n",
      "U.s.\n",
      "Great Britain\n",
      "U.s.a.\n",
      "USS\n",
      "Denmark \n",
      "United States\n",
      "New Zealand Aotearoa\n",
      "U.K.\n",
      "Hartford\n",
      "Japan, of Sov position\n",
      "Canada\n",
      "United Stares\n",
      "New zealand\n",
      "Mainland China\n",
      "I.S.\n",
      "of (Northern Ireland)\n",
      "of for U.S. company\n",
      " of\n",
      "Unites states \n",
      "of\n",
      "Is \n",
      "Long Long \n",
      "Taiwan\n",
      "And\n",
      "Unite States\n",
      "australia\n",
      "The of\n",
      "united states \n",
      "The Netherlands \n",
      "Cambodia\n",
      "United states of America \n",
      "Vietnam\n",
      "Remote\n",
      "Singapore\n",
      "South More\n",
      "Czech Republic \n",
      "Thailand\n",
      "Bangladesh\n",
      "Lithuania\n",
      "Eritrea\n",
      "Indonesia\n",
      "Singapore \n",
      "For the United States government, but posted overseas\n",
      "of\n",
      "Switzerland \n",
      "United Kingdom\n",
      "Italy\n",
      " New Zealand\n",
      "Cuba\n",
      "Slovenia\n",
      "Australia\n",
      "Note d'Voice\n",
      "united kingdom\n",
      "From Mania, but for an of based company\n",
      "Somalia\n",
      "Tales (United Kingdom)\n",
      "England, B\n",
      "Czech Republic\n",
      "UnitedStates\n",
      "Ri Vanka\n",
      "spain\n",
      "Denmark\n",
      "U.K. (northern England)\n",
      "U.K\n",
      "of\n",
      "the Netherlands\n",
      "Nederland\n",
      "Slovakia\n",
      "United States of america\n",
      "Portugal \n",
      "England, United Kingdom\n",
      "Pierre One\n",
      "England\n",
      "United states\n",
      "UAE\n",
      "Belgium \n",
      "bonus based on meeting yearly goals set w/ my supervisor\n",
      "International \n",
      "The Bahamas \n",
      "Tales\n",
      "I earn commission on sales. Of I meet quota, I'm guaranteed another ask min. Last year i earned an additional ask. It's not uncommon for people in my space to earn 100k+ after commission. \n",
      "Costa Rich\n",
      " United States\n",
      "United Statues\n",
      "Untied States\n",
      "USA (company is based in a of territory, I work remote)\n",
      "While\n",
      "denmark\n",
      "of (England)\n",
      "of, remote\n",
      "Scotland, of\n",
      "USAB\n",
      "United States\n",
      "Norway \n",
      "Later\n",
      "United States\n",
      "Remote (philippines)\n",
      "Brazil \n",
      "Unites kingdom \n",
      "South africa\n",
      "Portugal\n",
      "united stated\n",
      "United States Of America\n",
      "Siberia\n",
      "Panama\n",
      "Northern Ireland \n",
      "england\n",
      "SWITZERLAND\n",
      "Austria, but I work remote for a Dutch/British company\n",
      "I work for an of based company but I'm from Argentina.\n",
      "I was brought in on this salary to help with the EHR and very quickly was promoted to current position but compensation was not altered. \n",
      "United States\n",
      "U. S \n",
      "Long\n",
      "United states of America\n",
      "Uruguay\n",
      "Pakistan\n",
      "Trail\n",
      "USA tomorrow \n",
      "United States\n",
      "n/a (remote from wherever I want)\n",
      "singapore\n",
      "of got employee overseas, country withheld\n",
      "us \n",
      "Malaysia \n",
      "Agenda\n",
      "Malta\n",
      "Maude Arabia\n",
      "Bulgaria\n",
      "Astoria\n",
      "Morocco\n",
      "new zealand\n",
      "Africa\n",
      "Ecuador\n",
      "Zimbabwe\n",
      "Than\n",
      "An Francisco\n",
      "Sat\n",
      "🇺🇸 \n",
      "Luxemburg\n",
      "United Stated\n",
      "of\n",
      "Tales, of\n",
      "United Stares \n",
      "Croatia \n",
      "England, United Kingdom \n",
      "United states\n",
      "USaa\n",
      "up\n",
      "South More \n",
      "The netherlands\n",
      "Ukraine \n",
      "america\n",
      "switzerland\n",
      "United States- Huerta Rico\n",
      "From New Zealand but on projects across APAC\n",
      "Y\n",
      "United y\n",
      "Tales (of)\n",
      "Isle of An\n",
      "Northern Ireland, United Kingdom\n",
      "europe\n",
      "California \n",
      "of, but for locally fully remote company\n",
      "Australian \n",
      "Mexico\n",
      "Jamaica\n",
      "up\n",
      "USD\n",
      "the netherlands\n",
      "USA, but for foreign go't\n",
      "japan\n",
      "Sonya\n",
      "Jordan\n",
      "United States\n",
      "ARGENTINA BUT of ORG of of THAILAND\n",
      "United states of america\n",
      "is\n",
      "I work for a UAE-based organization, though I am personally in the of.\n",
      "United  States\n",
      "france\n",
      "Aotearoa New Zealand\n",
      "na\n",
      "Policy\n",
      "Typhus\n",
      "long on\n",
      "United States is America\n",
      "Lichtenstein\n",
      "Company in Germany. I work from Pakistan.\n",
      "croats\n",
      "Canada\n",
      "ENGLAND\n",
      "United States of American\n",
      "U.S.A \n"
     ]
    }
   ],
   "source": [
    "func(data['Country_Of_Employment'].unique())"
   ]
  },
  {
   "cell_type": "code",
   "execution_count": 61,
   "id": "68e3c42d",
   "metadata": {},
   "outputs": [
    {
     "data": {
      "text/plain": [
       "Ellipsis"
      ]
     },
     "execution_count": 61,
     "metadata": {},
     "output_type": "execute_result"
    }
   ],
   "source": [
    "correct_names = {'United States of America','United Kingdom','Australia','Canada','Scotland','The Netherlands','England',\n",
    "                'Finland','France','Germany','Ireland','India','Argentina','Great Britain','Denmark','Switzerland','Bermuda',\n",
    "                'Malaysia','Mexico','Belgium','Sweden','South Africa','Norway','Sri Lanka','Greece','Japan','Austria','Brazil',\n",
    "                'Hungary','Luxembourg','Columbia','Mexico','New Zealand','Trinidad and Tobago','Czech Republic','Latvia','Puerto Rico',\n",
    "                'Bangladesh','Serbia','Philippines','Russia','Poland','Turkey','Virgin Islands','China','Cambodia','Vietnam',\n",
    "                'Singapore','Thailand','Lithuania','Indonesia','Italy','Slovenia','Cuba'}\n",
    "\n",
    " #let's specify the function that select most similar word\n",
    "def get_most_similar(word,wordlist):\n",
    "    top_similarity = 0.0\n",
    "    most_similar_word = word\n",
    "    for candidate in wordlist:\n",
    "        similarity = SequenceMatcher(None,word,candidate).ratio()\n",
    "        if similarity > top_similarity:\n",
    "            top_similarity = similarity\n",
    "            most_similar_word = candidate\n",
    "    return most_similar_word\n",
    "...\n",
    " #now apply this function over 'country' column in dataframe\n"
   ]
  },
  {
   "cell_type": "code",
   "execution_count": 62,
   "id": "40a22833",
   "metadata": {},
   "outputs": [
    {
     "data": {
      "text/plain": [
       "0    United States of America\n",
       "1              United Kingdom\n",
       "2                      Sweden\n",
       "3                South Africa\n",
       "4                      Sweden\n",
       "5                South Africa\n",
       "6                South Africa\n",
       "7    United States of America\n",
       "8                      Sweden\n",
       "9    United States of America\n",
       "Name: Country_Of_Employment, dtype: object"
      ]
     },
     "execution_count": 62,
     "metadata": {},
     "output_type": "execute_result"
    }
   ],
   "source": [
    "data['Country_Of_Employment'].head(10).apply(lambda x: get_most_similar(x,correct_names))"
   ]
  },
  {
   "cell_type": "code",
   "execution_count": null,
   "id": "297b819f",
   "metadata": {},
   "outputs": [],
   "source": []
  }
 ],
 "metadata": {
  "kernelspec": {
   "display_name": "Python 3 (ipykernel)",
   "language": "python",
   "name": "python3"
  },
  "language_info": {
   "codemirror_mode": {
    "name": "ipython",
    "version": 3
   },
   "file_extension": ".py",
   "mimetype": "text/x-python",
   "name": "python",
   "nbconvert_exporter": "python",
   "pygments_lexer": "ipython3",
   "version": "3.9.12"
  }
 },
 "nbformat": 4,
 "nbformat_minor": 5
}
